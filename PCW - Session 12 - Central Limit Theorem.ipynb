{
 "cells": [
  {
   "cell_type": "markdown",
   "metadata": {},
   "source": [
    "## Task 1\n",
    "**Why is it appropriate to use the binomial distribution?** \n",
    "Because the poll data is binomial. "
   ]
  },
  {
   "cell_type": "code",
   "execution_count": 48,
   "metadata": {},
   "outputs": [],
   "source": [
    "import scipy.stats as sts\n",
    "import numpy as np\n",
    "\n",
    "# setting sample size\n",
    "sample_size = 1000\n",
    "p = 0.1\n",
    "# q as 1 - p\n",
    "q = 0.9\n",
    "\n",
    "# calculating mean, standard deviation\n",
    "mean = sample_size * p\n",
    "std = np.sqrt(q*mean)"
   ]
  },
  {
   "cell_type": "code",
   "execution_count": 49,
   "metadata": {},
   "outputs": [
    {
     "name": "stdout",
     "output_type": "stream",
     "text": [
      "95% Confidence Interval is: [81.02633403898972, 118.97366596101028]\n"
     ]
    }
   ],
   "source": [
    "# calculating lower and upper bound of confidence interval\n",
    "# formula mean +- 2*std\n",
    "# in any distribution about 95% of values will be within 2 STDs of the mean\n",
    "\n",
    "lower_bound = mean - 2*std\n",
    "upper_bound = mean + 2*std\n",
    "\n",
    "print(\"95% Confidence Interval is:\", [lower_bound, upper_bound])"
   ]
  },
  {
   "cell_type": "code",
   "execution_count": 56,
   "metadata": {},
   "outputs": [
    {
     "name": "stdout",
     "output_type": "stream",
     "text": [
      "The percentage outcome is: 1.9 %\n"
     ]
    }
   ],
   "source": [
    "# calculating the percentage outcome\n",
    "percentage_outcome = round((1.96*std)/sample_size, 3)\n",
    "\n",
    "print('The percentage outcome is:', percentage_outcome*100, \"%\")"
   ]
  },
  {
   "cell_type": "markdown",
   "metadata": {},
   "source": [
    "## Task 2"
   ]
  },
  {
   "cell_type": "code",
   "execution_count": 37,
   "metadata": {},
   "outputs": [],
   "source": [
    "def matrix_replicate(empty_matrix, samples, percentages, round_value):\n",
    "    # running for loops in range of 9, 5, to go through the matrix\n",
    "    for sample_size_i in range(9):\n",
    "        for percentage_i in range(5):\n",
    "            # sample size\n",
    "            n = samples[percentage_i]\n",
    "            # p\n",
    "            p = percentages[sample_size_i]\n",
    "            #q as 1-p\n",
    "            q = 1 - p\n",
    "            \n",
    "            #mean\n",
    "            mean = n*p\n",
    "            #standard deviation\n",
    "            std = np.sqrt(q*mean)\n",
    "            \n",
    "            #filling out matrix as we run the loops\n",
    "            empty_matrix[sample_size_i, percentage_i] = round((2*std)/n, round_value)*100\n",
    "    \n",
    "    return empty_matrix"
   ]
  },
  {
   "cell_type": "code",
   "execution_count": 38,
   "metadata": {},
   "outputs": [
    {
     "name": "stdout",
     "output_type": "stream",
     "text": [
      "[[0. 0. 0. 0. 0.]\n",
      " [0. 0. 0. 0. 0.]\n",
      " [0. 0. 0. 0. 0.]\n",
      " [0. 0. 0. 0. 0.]\n",
      " [0. 0. 0. 0. 0.]\n",
      " [0. 0. 0. 0. 0.]\n",
      " [0. 0. 0. 0. 0.]\n",
      " [0. 0. 0. 0. 0.]\n",
      " [0. 0. 0. 0. 0.]]\n"
     ]
    }
   ],
   "source": [
    "samples = [1000, 750, 500, 250, 100]\n",
    "percentages = [0.1, 0.2, 0.3, 0.4, 0.5, 0.6, 0.7, 0.8, 0.9]\n",
    "empty_matrix = np.zeros([9, 5])\n",
    "print(empty_matrix)"
   ]
  },
  {
   "cell_type": "code",
   "execution_count": 39,
   "metadata": {},
   "outputs": [
    {
     "data": {
      "text/plain": [
       "array([[ 2.,  2.,  3.,  4.,  6.],\n",
       "       [ 3.,  3.,  4.,  5.,  8.],\n",
       "       [ 3.,  3.,  4.,  6.,  9.],\n",
       "       [ 3.,  4.,  4.,  6., 10.],\n",
       "       [ 3.,  4.,  4.,  6., 10.],\n",
       "       [ 3.,  4.,  4.,  6., 10.],\n",
       "       [ 3.,  3.,  4.,  6.,  9.],\n",
       "       [ 3.,  3.,  4.,  5.,  8.],\n",
       "       [ 2.,  2.,  3.,  4.,  6.]])"
      ]
     },
     "execution_count": 39,
     "metadata": {},
     "output_type": "execute_result"
    }
   ],
   "source": [
    "## replicating the table, using round() with 2 \n",
    "matrix_replicate(empty_matrix, samples, percentages, 2)"
   ]
  },
  {
   "cell_type": "code",
   "execution_count": 46,
   "metadata": {},
   "outputs": [
    {
     "data": {
      "text/plain": [
       "array([[ 1.9,  2.2,  2.7,  3.8,  6. ],\n",
       "       [ 2.5,  2.9,  3.6,  5.1,  8. ],\n",
       "       [ 2.9,  3.3,  4.1,  5.8,  9.2],\n",
       "       [ 3.1,  3.6,  4.4,  6.2,  9.8],\n",
       "       [ 3.2,  3.7,  4.5,  6.3, 10. ],\n",
       "       [ 3.1,  3.6,  4.4,  6.2,  9.8],\n",
       "       [ 2.9,  3.3,  4.1,  5.8,  9.2],\n",
       "       [ 2.5,  2.9,  3.6,  5.1,  8. ],\n",
       "       [ 1.9,  2.2,  2.7,  3.8,  6. ]])"
      ]
     },
     "execution_count": 46,
     "metadata": {},
     "output_type": "execute_result"
    }
   ],
   "source": [
    "## replicating the table, using round() with 3\n",
    "matrix_replicate(empty_matrix, samples, percentages, 3)"
   ]
  },
  {
   "cell_type": "markdown",
   "metadata": {},
   "source": [
    "There is a slight difference in this table and the one in the article, and I looked into rounding the values to see if the issue comes from the way matrix values were rounded in the table."
   ]
  }
 ],
 "metadata": {
  "kernelspec": {
   "display_name": "Python 3",
   "language": "python",
   "name": "python3"
  },
  "language_info": {
   "codemirror_mode": {
    "name": "ipython",
    "version": 3
   },
   "file_extension": ".py",
   "mimetype": "text/x-python",
   "name": "python",
   "nbconvert_exporter": "python",
   "pygments_lexer": "ipython3",
   "version": "3.7.4"
  }
 },
 "nbformat": 4,
 "nbformat_minor": 2
}
