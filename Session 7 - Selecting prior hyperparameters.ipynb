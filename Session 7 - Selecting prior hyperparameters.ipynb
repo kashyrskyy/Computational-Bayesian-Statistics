{
 "cells": [
  {
   "cell_type": "markdown",
   "metadata": {},
   "source": [
    "Below I define the probability density function of NIG distribution, and the sample taken from it, which returns a stack of mean (x) and variance (sigma)."
   ]
  },
  {
   "cell_type": "code",
   "execution_count": 10,
   "metadata": {},
   "outputs": [],
   "source": [
    "# probability density function of the normal-inverse-gamma distribution\n",
    "def normal_inverse_gamma_pdf(x, sigma, mu, nu, alpha, beta):\n",
    "    return sts.norm.pdf(x, loc=mu, scale=np.sqrt(sigma/nu))*sts.invgamma.pdf(sigma, a=alpha, scale=beta)\n",
    "\n",
    "# generating samples from the distribution\n",
    "\n",
    "def normal_inverse_gamma_rvs(mu, nu, alpha, beta, size=1):\n",
    "    # getting sigma \n",
    "    sigma = sts.invgamma.rvs(a=alpha, scale=beta, size=size)\n",
    "    # getting x\n",
    "    x = sts.norm.rvs(loc=mu, scale=np.sqrt(sigma/nu), size=size)\n",
    "    return np.vstack((x, sigma).transpose)"
   ]
  },
  {
   "cell_type": "markdown",
   "metadata": {},
   "source": [
    "I set prior hyperparameters for mu, nu, alpha, and beta."
   ]
  },
  {
   "cell_type": "code",
   "execution_count": 11,
   "metadata": {},
   "outputs": [],
   "source": [
    "# Hyperparameters for normal-inverse-gamma prior hyperparameters\n",
    "\n",
    "mu_0 = 2.3\n",
    "nu_0 = 1/0.5\n",
    "alpha_0 = nu_o/2\n",
    "beta_0 = 2.75/2"
   ]
  },
  {
   "cell_type": "markdown",
   "metadata": {},
   "source": [
    "I make an optimize() function that outputs the optimized values - giving the values of prior hyperparameters."
   ]
  },
  {
   "cell_type": "code",
   "execution_count": 13,
   "metadata": {},
   "outputs": [
    {
     "name": "stdout",
     "output_type": "stream",
     "text": [
      "[2.3   2.    1.    1.375]\n"
     ]
    }
   ],
   "source": [
    "def optimize(f):\n",
    "    # 4 terms in the function corresponding to 4 given constraints\n",
    "    return (f[0]-2.3)**2 + (f[1]-1/0.5)**2 + (f[2]-1/0.5/2)**2 + (f[3]-2.75/2)**2\n",
    "\n",
    "from scipy.optimize import minimize\n",
    "\n",
    "output = minimize(optimize, [mu_0, nu_0, alpha_0, beta_0])\n",
    "x_optimized = output.x\n",
    "\n",
    "print(x_optimized)"
   ]
  }
 ],
 "metadata": {
  "kernelspec": {
   "display_name": "Python 3",
   "language": "python",
   "name": "python3"
  },
  "language_info": {
   "codemirror_mode": {
    "name": "ipython",
    "version": 3
   },
   "file_extension": ".py",
   "mimetype": "text/x-python",
   "name": "python",
   "nbconvert_exporter": "python",
   "pygments_lexer": "ipython3",
   "version": "3.7.4"
  }
 },
 "nbformat": 4,
 "nbformat_minor": 2
}
