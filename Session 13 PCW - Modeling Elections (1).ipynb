{
 "cells": [
  {
   "cell_type": "markdown",
   "metadata": {},
   "source": [
    "# Modeling elections"
   ]
  },
  {
   "cell_type": "code",
   "execution_count": 3,
   "metadata": {},
   "outputs": [],
   "source": [
    "import numpy as np\n",
    "import scipy.stats as sts\n",
    "import matplotlib.pyplot as plt\n",
    "import pystan"
   ]
  },
  {
   "cell_type": "markdown",
   "metadata": {},
   "source": [
    "## Data\n",
    "\n",
    "The `electoral_votes` variable is a dictionary containing the number of Electoral College votes for each state. For example\n",
    "```\n",
    "  >>> electoral_votes['Indiana']\n",
    "  11\n",
    "```\n",
    "Data from [Wikipedia: United_States_Electoral_College](https://en.wikipedia.org/wiki/United_States_Electoral_College)\n",
    "\n",
    "The `survey_results` variable is a dictionary mapping from states to an array of survey results for each candidate. Each row in a survey results array represents one survey and each column represents one candidate. There are 3 columns, representing Trump (Republican), Biden (Democrat), and Other in that order. In the example below, Trump got 340 votes in the first survey, Biden got 258, and Other got 40.\n",
    "```\n",
    "  >>> survey_results['Indiana']\n",
    "  array([[340, 258,  40],\n",
    "         [240, 155,  10],\n",
    "         [235, 155,  70],\n",
    "         [308, 266,  84],\n",
    "         [222, 161, 110]])\n",
    "```\n",
    "Data from [Wikipedia: Statewide opinion polling for the 2020 United States presidential election](https://en.wikipedia.org/wiki/Statewide_opinion_polling_for_the_2020_United_States_presidential_election)\n"
   ]
  },
  {
   "cell_type": "code",
   "execution_count": 4,
   "metadata": {},
   "outputs": [
    {
     "name": "stdout",
     "output_type": "stream",
     "text": [
      "Modeling 5 states with 38 electoral college votes\n"
     ]
    }
   ],
   "source": [
    "electoral_votes = {\n",
    "    'Alabama': 9,\n",
    "    'Alaska': 3,\n",
    "    'Arizona': 11,\n",
    "    'Arkansas': 6,\n",
    "    'Colorado': 9,\n",
    "}\n",
    "\n",
    "survey_results = {\n",
    "    'Alabama': np.array([[611, 397, 0, 0], [799, 528, 0, 0], [793, 403, 0, 0], [288, 264, 0, 0], [353, 219, 0, 0], [997, 554, 0, 0], [312, 232, 0, 0], [409, 227, 0, 0], [319, 234, 0, 0]]),\n",
    "    'Alaska': np.array([[348, 320, 0, 0], [298, 253, 0, 0], [283, 277, 0, 0], [269, 198, 0, 0], [227, 177, 0, 0], [442, 389, 0, 0], [519, 486, 0, 0], [325, 318, 0, 0], [84, 74, 0, 0]]),\n",
    "    'Arizona': np.array([[522, 478, 22, 0], [313, 356, 7, 7], [291, 304, 0, 0], [270, 288, 0, 0], [236, 264, 16, 0], [180, 184, 0, 0], [133, 151, 0, 0], [269, 321, 20, 0], [230, 250, 5, 0], [3337, 3621, 0, 0], [360, 392, 0, 0], [235, 235, 0, 0], [364, 396, 8, 0], [383, 409, 9, 9], [221, 216, 0, 0], [113, 128, 0, 0], [284, 278, 0, 0], [168, 212, 0, 0], [258, 270, 0, 0], [260, 266, 0, 0], [359, 402, 9, 0], [185, 202, 17, 0], [261, 320, 26, 0], [519, 584, 0, 0], [328, 342, 0, 0], [487, 520, 0, 0], [252, 312, 0, 0], [752, 768, 0, 0], [414, 441, 0, 0], [212, 230, 0, 0], [357, 398, 0, 8], [309, 378, 23, 0], [3357, 3034, 0, 0], [396, 490, 0, 0], [162, 169, 0, 0], [325, 402, 9, 9], [445, 426, 0, 0], [311, 350, 0, 0], [188, 193, 0, 0], [466, 456, 30, 0], [271, 295, 0, 0], [204, 192, 0, 0], [522, 547, 24, 12], [2547, 2348, 0, 0], [164, 172, 0, 0], [381, 445, 0, 0], [393, 428, 0, 0], [326, 395, 17, 9], [372, 413, 0, 0], [432, 470, 0, 0], [315, 343, 0, 0], [155, 176, 0, 0], [500, 500, 0, 0], [264, 294, 0, 0], [1230, 1088, 0, 0], [270, 282, 0, 0], [137, 159, 0, 0], [258, 237, 0, 0], [337, 372, 17, 9], [266, 312, 0, 0], [616, 670, 0, 0], [88, 90, 0, 0], [421, 461, 0, 0], [148, 145, 0, 0], [368, 353, 0, 0], [180, 188, 0, 0], [388, 426, 0, 0], [258, 300, 0, 0], [230, 235, 0, 0], [258, 312, 0, 0]]),\n",
    "    'Arkansas': np.array([[478, 293, 0, 0], [462, 220, 0, 0], [493, 239, 0, 0], [209, 135, 0, 0], [408, 391, 0, 0]]),\n",
    "    'Colorado': np.array([[408, 510, 0, 0], [1114, 1549, 0, 0], [283, 322, 0, 0], [320, 400, 0, 0], [312, 400, 32, 8], [978, 1359, 0, 0], [262, 325, 0, 0], [252, 306, 0, 0], [246, 307, 0, 0], [246, 306, 0, 0], [240, 312, 0, 0], [935, 1355, 0, 0], [240, 320, 0, 0], [246, 306, 0, 0], [365, 481, 0, 0], [328, 470, 0, 0], [457, 620, 0, 0], [240, 286, 0, 0], [280, 371, 0, 0], [216, 330, 0, 0], [133, 201, 0, 0]]),\n",
    "}\n",
    "\n",
    "for key, value in survey_results.items():\n",
    "    survey_results[key] = np.concatenate((value[:,:2], value[:,2:3] + value[:,3:4]), axis=1)\n",
    "\n",
    "states = sorted(survey_results.keys())\n",
    "print('Modeling', len(states), 'states with', sum(electoral_votes[s] for s in states), 'electoral college votes')"
   ]
  },
  {
   "cell_type": "markdown",
   "metadata": {},
   "source": [
    "## Generative model\n",
    "\n",
    "1. For each state we generate an $\\vec{\\alpha}$ vector, which defines a Dirichlet distribution over the proportion of votes that go to each of the 3 candidates whenever we do a survey – including the final survey, namely the election itself which we want to predict. The prior over each component of $\\vec{\\alpha}$ is taken as a Cauchy distribution with location 0 and scale 1. Since the components of $\\vec{\\alpha}$ are positive, we actually use the positive half-Cauchy distribution.\n",
    "\n",
    "2. For each survey in a state we generate a probability vector $\\vec{p_i} \\sim \\text{Dirichlet}(\\vec{\\alpha})$ for the probability that a voter selects each of the 3 candidates.\n",
    "\n",
    "3. For each survey, we then generate the number of votes going to each candidate as $\\vec{k_i} \\sim \\text{Multinomial}(\\vec{p_i})$.\n",
    "\n",
    "### Tasks\n",
    "\n",
    "* Use Stan to sample from the posterior distribution over $\\alpha$ and visualize your results. There are 5 states, so you will have 5 posteriors.\n",
    "* The posteriors over $\\alpha$ show a lot of variation between different states. Explain the results you get in terms of the model and the data."
   ]
  },
  {
   "cell_type": "code",
   "execution_count": 5,
   "metadata": {},
   "outputs": [
    {
     "name": "stderr",
     "output_type": "stream",
     "text": [
      "INFO:pystan:COMPILING THE C++ CODE FOR MODEL anon_model_67fc1997df9eef78d06869db50361dcc NOW.\n"
     ]
    }
   ],
   "source": [
    "stan_code = '''\n",
    "// known values\n",
    "data {\n",
    "    int<lower=1> n_surveys; // amount of surveys\n",
    "    int<lower=1> n_candidates; // amount of candidates\n",
    "    int<lower=0> survey_results[n_surveys, n_candidates]; // result for a candidate in a survey\n",
    "    real cauchy_location; // prior hyperparameter for half-cauchy over alpha\n",
    "    real cauchy_scale; // prior hyperparameter for half-cauchy over alpha\n",
    "}\n",
    "\n",
    "//unknown values\n",
    "parameters {\n",
    "    vector<lower=0>[n_candidates] alpha; // prior for the distribution\n",
    "    simplex[n_candidates] p[n_surveys]; // probability vector for each survey, probability of winning\n",
    "}\n",
    "\n",
    "model {\n",
    "    alpha ~ cauchy(cauchy_location, cauchy_scale);\n",
    "    for (i in 1:n_surveys){\n",
    "        p[i] ~ dirichlet(alpha); // the probability that a voter selects each of the 3 candidates\n",
    "        survey_results[i] ~ multinomial(p[i]); // k\n",
    "    }\n",
    "        \n",
    "}\n",
    "'''\n",
    "\n",
    "stan_model = pystan.StanModel(model_code=stan_code)"
   ]
  },
  {
   "cell_type": "code",
   "execution_count": 6,
   "metadata": {},
   "outputs": [
    {
     "name": "stderr",
     "output_type": "stream",
     "text": [
      "WARNING:pystan:1419 of 4000 iterations ended with a divergence (35.5 %).\n",
      "WARNING:pystan:Try running with adapt_delta larger than 0.8 to remove the divergences.\n"
     ]
    },
    {
     "name": "stdout",
     "output_type": "stream",
     "text": [
      "Inference for Stan model: anon_model_67fc1997df9eef78d06869db50361dcc.\n",
      "4 chains, each with iter=2000; warmup=1000; thin=1; \n",
      "post-warmup draws per chain=1000, total post-warmup draws=4000.\n",
      "\n",
      "           mean se_mean     sd   2.5%    50%  97.5%  n_eff   Rhat\n",
      "alpha[1]   71.1    1.85  48.85  12.14   59.6 200.15    698    1.0\n",
      "alpha[2]  46.12    1.19  31.44   8.18  38.63 128.87    699    1.0\n",
      "alpha[3]   0.12  2.2e-3   0.06   0.05   0.11   0.29    821    1.0\n",
      "p[1,1]     0.61  3.9e-4   0.01   0.58   0.61   0.64   1359    1.0\n",
      "p[2,1]      0.6  3.1e-4   0.01   0.58    0.6   0.63   1749    1.0\n",
      "p[3,1]     0.66  3.7e-4   0.01   0.63   0.66   0.69   1367    1.0\n",
      "p[4,1]     0.54  5.9e-4   0.02   0.49   0.54   0.58   1292    1.0\n",
      "p[5,1]     0.62  4.2e-4   0.02   0.58   0.62   0.65   1863    1.0\n",
      "p[6,1]     0.64  2.8e-4   0.01   0.62   0.64   0.66   1741    1.0\n",
      "p[7,1]     0.58  5.2e-4   0.02   0.54   0.58   0.62   1445    1.0\n",
      "p[8,1]     0.64  4.2e-4   0.02    0.6   0.64   0.67   1719    1.0\n",
      "p[9,1]     0.58  4.8e-4   0.02   0.54   0.58   0.62   1724    1.0\n",
      "p[1,2]     0.39  3.9e-4   0.01   0.36   0.39   0.42   1353    1.0\n",
      "p[2,2]      0.4  3.1e-4   0.01   0.37    0.4   0.42   1743    1.0\n",
      "p[3,2]     0.34  3.7e-4   0.01   0.31   0.34   0.37   1371    1.0\n",
      "p[4,2]     0.46  5.9e-4   0.02   0.42   0.46   0.51   1286    1.0\n",
      "p[5,2]     0.38  4.2e-4   0.02   0.35   0.38   0.42   1865    1.0\n",
      "p[6,2]     0.36  2.8e-4   0.01   0.34   0.36   0.38   1746    1.0\n",
      "p[7,2]     0.42  5.2e-4   0.02   0.38   0.42   0.46   1448    1.0\n",
      "p[8,2]     0.36  4.2e-4   0.02   0.33   0.36    0.4   1731    1.0\n",
      "p[9,2]     0.42  4.8e-4   0.02   0.38   0.42   0.46   1722    1.0\n",
      "p[1,3]   1.2e-4  5.9e-6 3.4e-41.9e-15 1.8e-6 1.0e-3   3283    1.0\n",
      "p[2,3]   8.7e-5  4.4e-6 2.5e-46.2e-15 1.4e-6 8.1e-4   3260    1.0\n",
      "p[3,3]   1.0e-4  4.6e-6 2.9e-43.1e-15 1.6e-6 9.5e-4   3892    1.0\n",
      "p[4,3]   1.9e-4  9.1e-6 5.4e-41.1e-14 3.7e-6 1.7e-3   3470    1.0\n",
      "p[5,3]   1.8e-4  7.8e-6 5.1e-47.8e-16 2.4e-6 1.6e-3   4315    1.0\n",
      "p[6,3]   7.7e-5  3.5e-6 2.2e-42.4e-15 1.5e-6 7.1e-4   3758    1.0\n",
      "p[7,3]   2.0e-4  9.8e-6 5.9e-46.9e-15 3.7e-6 1.8e-3   3678    1.0\n",
      "p[8,3]   1.7e-4  8.9e-6 4.9e-41.7e-15 2.9e-6 1.7e-3   3013    1.0\n",
      "p[9,3]   2.1e-4  1.0e-5 5.9e-49.9e-15 4.8e-6 1.8e-3   3390    1.0\n",
      "\n",
      "Samples were drawn using NUTS at Thu Oct 21 13:30:50 2021.\n",
      "For each parameter, n_eff is a crude measure of effective sample size,\n",
      "and Rhat is the potential scale reduction factor on split chains (at \n",
      "convergence, Rhat=1).\n",
      "U.S. State: Alabama\n"
     ]
    },
    {
     "ename": "NameError",
     "evalue": "name 'samples' is not defined",
     "output_type": "error",
     "traceback": [
      "\u001b[0;31m---------------------------------------------------------------------------\u001b[0m",
      "\u001b[0;31mNameError\u001b[0m                                 Traceback (most recent call last)",
      "\u001b[0;32m<ipython-input-6-18d38f25cc2a>\u001b[0m in \u001b[0;36m<module>\u001b[0;34m\u001b[0m\n\u001b[1;32m     17\u001b[0m \u001b[0;34m\u001b[0m\u001b[0m\n\u001b[1;32m     18\u001b[0m     \u001b[0mprint\u001b[0m\u001b[0;34m(\u001b[0m\u001b[0;34m\"U.S. State:\"\u001b[0m\u001b[0;34m,\u001b[0m \u001b[0mi\u001b[0m\u001b[0;34m)\u001b[0m\u001b[0;34m\u001b[0m\u001b[0;34m\u001b[0m\u001b[0m\n\u001b[0;32m---> 19\u001b[0;31m     \u001b[0mprint\u001b[0m\u001b[0;34m(\u001b[0m\u001b[0mnp\u001b[0m\u001b[0;34m.\u001b[0m\u001b[0mpercentile\u001b[0m\u001b[0;34m(\u001b[0m\u001b[0msamples\u001b[0m\u001b[0;34m[\u001b[0m\u001b[0;34m'alpha'\u001b[0m\u001b[0;34m]\u001b[0m\u001b[0;34m,\u001b[0m \u001b[0;34m[\u001b[0m\u001b[0;36m2.5\u001b[0m\u001b[0;34m,\u001b[0m \u001b[0;36m97.5\u001b[0m\u001b[0;34m]\u001b[0m\u001b[0;34m)\u001b[0m\u001b[0;34m)\u001b[0m\u001b[0;34m\u001b[0m\u001b[0;34m\u001b[0m\u001b[0m\n\u001b[0m\u001b[1;32m     20\u001b[0m \u001b[0;34m\u001b[0m\u001b[0m\n\u001b[1;32m     21\u001b[0m     \u001b[0mplt\u001b[0m\u001b[0;34m.\u001b[0m\u001b[0mfigure\u001b[0m\u001b[0;34m(\u001b[0m\u001b[0mfigsize\u001b[0m\u001b[0;34m=\u001b[0m\u001b[0;34m(\u001b[0m\u001b[0;36m6\u001b[0m\u001b[0;34m,\u001b[0m\u001b[0;36m4\u001b[0m\u001b[0;34m)\u001b[0m\u001b[0;34m)\u001b[0m\u001b[0;34m\u001b[0m\u001b[0;34m\u001b[0m\u001b[0m\n",
      "\u001b[0;31mNameError\u001b[0m: name 'samples' is not defined"
     ]
    }
   ],
   "source": [
    "## empty disctionary for results\n",
    "state_results = {}\n",
    "\n",
    "## creating data for each state, plotting\n",
    "for i in states:\n",
    "    data = {\n",
    "        'n_surveys': survey_results[i].shape[0],\n",
    "        'n_candidates': 3,\n",
    "        'survey_results': survey_results[i],\n",
    "        'cauchy_location': 0, #hyperparameters\n",
    "        'cauchy_scale': 1}\n",
    "    ## saving the samples for each state\n",
    "    state_results[i] = stan_model.sampling(data=data)\n",
    "    ## extracting the samples\n",
    "    #print(samples)\n",
    "    print(state_results[i].stansummary(pars=['alpha','p'], probs=[0.025, 0.5, 0.975]))\n",
    "    \n",
    "    print(\"U.S. State:\", i)\n",
    "    print(np.percentile(samples['alpha'], [2.5, 97.5]))\n",
    "    \n",
    "    plt.figure(figsize=(6,4))\n",
    "    colors = [\"red\", \"blue\", \"grey\"]\n",
    "    # for 3 options\n",
    "    for x in range(3):\n",
    "        col = colors[x]\n",
    "        plt.plot(sts.uniform.rvs(loc=x-0.1, scale=0.2, size=4000), samples['alpha'][:, x], \",\", alpha=0.5, color=col)\n",
    "    plt.xticks([0,1,2],['D.Trump', 'J.Biden', 'Other candidate'])\n",
    "    plt.show()"
   ]
  },
  {
   "cell_type": "markdown",
   "metadata": {},
   "source": [
    "## Simulation time\n",
    "\n",
    "Use the posterior samples to predict the outcome of the presidential elections.\n",
    "\n",
    "* Predict the probability that each candidate will win each state.\n",
    "   * Use the posterior $\\alpha$ samples to generate posterior predictive samples for $p$ – the proportion of votes each candidate would get in each state in an election.\n",
    "   * Use these $p$ samples to estimate the probability that each candidate will win each state.\n",
    "* Predict the probability that each candidate will win the presidential election.\n",
    "   * Use the posterior predictive probability that each candidate will win each state to generate samples over the total number Electoral College votes each candidate would get in an election.\n",
    "   * Use the total number of votes to generate samples over who would win the election."
   ]
  },
  {
   "cell_type": "code",
   "execution_count": null,
   "metadata": {
    "scrolled": true
   },
   "outputs": [],
   "source": [
    "for i in states:\n",
    "    # all samples extract\n",
    "    samples = state_results[i].extract()\n",
    "    # posterior samples of a\n",
    "    # empty array for predicted posterior samples of a\n",
    "    pred_p = np.empty(samples['alpha'].shape)    \n",
    "    # posterior predictive samples\n",
    "    for x in range(samples['alpha'].shape[0]):\n",
    "        pred_p[x] = sts.dirichlet.rvs(samples['alpha'][x])\n",
    "    \n",
    "    # plotting\n",
    "    plt.figure(figsize=(6,4))\n",
    "    \n",
    "    colors = [\"red\", \"blue\", \"grey\"]\n",
    "    for y in range(3):\n",
    "        col = colors[y]\n",
    "        plt.plot(sts.uniform.rvs(loc=y-0.1, scale=0.2, size=4000), pred_p[:,y], ',', alpha=0.5, color=col)\n",
    "        plt.title(i)\n",
    "        plt.xticks([0,1,2], ['D.Trump','J.Biden','Other candidate'])\n",
    "    plt.show"
   ]
  },
  {
   "cell_type": "code",
   "execution_count": null,
   "metadata": {},
   "outputs": [],
   "source": []
  }
 ],
 "metadata": {
  "kernelspec": {
   "display_name": "Python 3",
   "language": "python",
   "name": "python3"
  },
  "language_info": {
   "codemirror_mode": {
    "name": "ipython",
    "version": 3
   },
   "file_extension": ".py",
   "mimetype": "text/x-python",
   "name": "python",
   "nbconvert_exporter": "python",
   "pygments_lexer": "ipython3",
   "version": "3.7.4"
  }
 },
 "nbformat": 4,
 "nbformat_minor": 4
}
